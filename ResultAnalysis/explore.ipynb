{
 "cells": [
  {
   "cell_type": "code",
   "execution_count": 2,
   "id": "96046335",
   "metadata": {},
   "outputs": [],
   "source": [
    "import os\n",
    "import json"
   ]
  },
  {
   "cell_type": "code",
   "execution_count": 3,
   "id": "3a23ee02",
   "metadata": {},
   "outputs": [],
   "source": [
    "path = r\"C:/Users/tobyf/Downloads/PHC-RPA-Data/C.json\""
   ]
  },
  {
   "cell_type": "code",
   "execution_count": 4,
   "id": "fd3092cd",
   "metadata": {},
   "outputs": [],
   "source": [
    "with open(path, 'r') as f:\n",
    "    data = json.load(f)"
   ]
  },
  {
   "cell_type": "code",
   "execution_count": 6,
   "id": "f253525b",
   "metadata": {},
   "outputs": [
    {
     "data": {
      "text/plain": [
       "dict_keys(['api_version', 'model_id', 'content', 'languages', 'pages', 'paragraphs', 'tables', 'key_value_pairs', 'styles', 'documents'])"
      ]
     },
     "execution_count": 6,
     "metadata": {},
     "output_type": "execute_result"
    }
   ],
   "source": [
    "data.keys()"
   ]
  },
  {
   "cell_type": "code",
   "execution_count": 45,
   "id": "8a2cb8c2",
   "metadata": {
    "scrolled": true
   },
   "outputs": [
    {
     "name": "stdout",
     "output_type": "stream",
     "text": [
      "Page: || 1/1\n",
      "From: || Dr. O'Connor To\n",
      "patient || FORFFORD, Fatherilat Elather\n",
      "405-2884 0th Ave W\n",
      "Vancouver, BC, CAN\n",
      "V6K 8A8\n",
      "MSP: || 63688\n",
      "date of birth : || 19-Feb-1915\n",
      "age : || 77\n",
      "P: || 604-734-2553\n",
      "home phone : || (604) 322-3266\n",
      "sex : || Female\n",
      "F: || 604-734-7148\n",
      "work phono : || NoValue\n",
      "other phone : || NoValue\n",
      "PHN : || 9875 874 878\n",
      "copy to physician : || Jansen, Kara Ann [28089]\n",
      "height: || 199 cm\n",
      "weight || 99 kg\n",
      "copy to physician : || Ip, Janet Lynn [28028]\n",
      "additional copy to : || NoValue\n",
      "requisition date : || 23-Sep-2022\n",
      "appointment date : || NoValue\n",
      "abdomen || :unselected:\n",
      "carotid duplex || :unselected:\n",
      "prostate || :unselected:\n",
      "op thalmic || :unselected:\n",
      "obstetrical || :unselected:\n",
      "vascular duplex/dvt || :unselected:\n",
      "scrotal || :unselected:\n",
      "extremity || :selected:\n",
      "pelvis || :unselected:\n",
      "thyroid/parathyroid || :unselected:\n",
      "breast || :unselected:\n",
      "chest || :unselected:\n",
      "renal || :unselected:\n",
      "bladder || :unselected:\n",
      "kidney || :unselected:\n",
      "prostate biopsy || :unselected:\n",
      "kidney and bladder (post-void-residual) || :unselected:\n",
      "-renal and bladder (post-void residual) || :unselected:\n",
      "Upper abdomen (RUQ, LUQ) || :unselected:\n",
      "Pelvic (RLQ, LLQ,BLADDER) || :unselected:\n",
      "Combination pelvic and upper abdomen || :unselected:\n",
      "Other: || :unselected:\n",
      "RELEVANT HISTORY / REASON FOR EXAM : || 67yo female back and left groin pain. persistent pain at left groin by adductor insertion n along adductors\n",
      "ALAWAD\n",
      "CPSID || -06- 1 0 2022\n",
      "PHONE REQUEST : || NoValue\n",
      "YES || :unselected:\n",
      "NO || :unselected:\n",
      "YES || :unselected:\n",
      "NO || :unselected:\n",
      "LMP (dd/MM/yyyy): || NoValue\n",
      "EDD (dd/MM/yyyy): || NoValue\n",
      "SIGNATURE OF AUTHORIZING PRACTITIONER || Medol\n",
      "M.D.\n",
      "PLEASE PRINT NAME || Dr. Malgorzata M. Sudol\n",
      "PRAC, NO. || 63688\n",
      "PHONE NUMBER: || 604-734-2553\n"
     ]
    }
   ],
   "source": [
    "def getKeyValuePairsFromJson(data, showPrint=False):\n",
    "    contents = data[\"key_value_pairs\"]\n",
    "\n",
    "    keyList, valList = [], []\n",
    "    for content in contents:\n",
    "        try:\n",
    "            keyList.append(content[\"key\"][\"content\"])\n",
    "            tmp = content.get(\"value\", {})\n",
    "            if tmp:\n",
    "                valList.append(tmp.get(\"content\", None))\n",
    "            else:\n",
    "                valList.append(\"NoValue\")\n",
    "        except:\n",
    "            print(\"hmmm..strange why get() will return None for some tmp.\")\n",
    "            print(tmp)\n",
    "            print(content)\n",
    "            \n",
    "    if showPrint:\n",
    "        for key, value in zip(keyList, valList):\n",
    "            print(key, \"||\", value)\n",
    "    \n",
    "    return keyList, valList\n",
    "\n",
    "# show the key value result\n",
    "_ = getKeyValuePairsFromJson(data, True)"
   ]
  },
  {
   "cell_type": "code",
   "execution_count": 55,
   "id": "3cc2cb4e",
   "metadata": {
    "scrolled": true
   },
   "outputs": [
    {
     "data": {
      "text/plain": [
       "['2022 16:33:54 PDT',\n",
       " 'Page: 1/1',\n",
       " \"From: Dr. O'Connor To\",\n",
       " 'REQUEST FOR ULTRASOUND CONSULTATION',\n",
       " 'patient',\n",
       " 'FORFFORD, Fatherilat Elather',\n",
       " '405-2884 0th Ave W',\n",
       " 'Vancouver, BC, CAN',\n",
       " 'V6K 8A8',\n",
       " 'date of birth : 19-Feb-1915',\n",
       " 'home phone : (604) 322-3266',\n",
       " 'work phono :',\n",
       " 'other phone :',\n",
       " 'height: 199 cm',\n",
       " 'requisition date : 23-Sep-2022',\n",
       " 'appointment date :',\n",
       " 'EXAM REQUESTED :',\n",
       " 'abdomen',\n",
       " 'obstetrical',\n",
       " 'pelvis',\n",
       " 'renal',\n",
       " 'practitioner',\n",
       " 'age : 77',\n",
       " 'sex : Female',\n",
       " 'PHN : 9875 874 878',\n",
       " 'weight 99 kg',\n",
       " 'Dr. Malgorzata M, Sudol',\n",
       " 'Physical Medicine and Rehabilitation',\n",
       " 'MSP: 63688',\n",
       " '1211 8th Ave W',\n",
       " 'Vancouver, BC, V6H-1C7',\n",
       " 'P: 604-734-2553',\n",
       " 'F: 604-734-7148',\n",
       " 'copy to physician : Jansen, Kara Ann [28089]',\n",
       " 'copy to physician : Ip, Janet Lynn [28028]',\n",
       " 'additional copy to :',\n",
       " 'carotid duplex',\n",
       " 'prostate',\n",
       " 'op thalmic',\n",
       " 'vascular duplex/dvt',\n",
       " 'scrotal',\n",
       " 'extremity',\n",
       " 'thyroid/parathyroid',\n",
       " 'breast',\n",
       " 'chest',\n",
       " 'bladder',\n",
       " 'kidney',\n",
       " 'prostate biopsy',\n",
       " 'kidney and bladder (post-void-residual)',\n",
       " 'Upper abdomen (RUQ, LUQ)',\n",
       " '-renal and bladder (post-void residual)',\n",
       " 'Pelvic (RLQ, LLQ,BLADDER)',\n",
       " 'Combination pelvic and upper abdomen',\n",
       " 'Other:',\n",
       " 'RI +MC',\n",
       " 'RELEVANT HISTORY / REASON FOR EXAM :',\n",
       " '67yo female back and left groin pain. persistent pain at left groin by adductor insertion n along adductors',\n",
       " '- assess for adductor tendinopathy/ tear; bony injury at adductor insertion',\n",
       " 'PHONE REQUEST :',\n",
       " 'YES',\n",
       " 'Medol',\n",
       " 'DR.S. ALAWAD',\n",
       " '-06- 1 0 2022',\n",
       " 'CPSID :55318',\n",
       " 'NO',\n",
       " 'PATIENT PREGNANT:',\n",
       " 'LMP (dd/MM/yyyy):',\n",
       " 'EDD (dd/MM/yyyy):',\n",
       " 'YES',\n",
       " 'NO',\n",
       " 'Ps',\n",
       " '..',\n",
       " 'M.D.',\n",
       " 'SIGNATURE OF AUTHORIZING PRACTITIONER',\n",
       " 'PHONE NUMBER: 604-734-2553',\n",
       " 'Dr. Malgorzata M. Sudol',\n",
       " '63688',\n",
       " 'PLEASE PRINT NAME',\n",
       " 'PRAC, NO.',\n",
       " '** Please bring your CareCard, WCB and/or ICBC information **',\n",
       " 'PLEXIA Electronic Medical Systems Inc.',\n",
       " 'www.plexia.ca']"
      ]
     },
     "execution_count": 55,
     "metadata": {},
     "output_type": "execute_result"
    }
   ],
   "source": [
    "def getPageTextFromJson(data, showPrint=False):\n",
    "    textList = []\n",
    "    for page in data[\"pages\"]:\n",
    "        for line in page[\"lines\"]:\n",
    "            textList.append(line.get(\"content\"))\n",
    "    \n",
    "    if showPrint:\n",
    "        print(len(textList), textList)\n",
    "        \n",
    "    return textList\n",
    "\n",
    "getPageTextFromJson(data)"
   ]
  },
  {
   "cell_type": "code",
   "execution_count": null,
   "id": "87501036",
   "metadata": {},
   "outputs": [],
   "source": []
  }
 ],
 "metadata": {
  "kernelspec": {
   "display_name": "Python 3 (ipykernel)",
   "language": "python",
   "name": "python3"
  },
  "language_info": {
   "codemirror_mode": {
    "name": "ipython",
    "version": 3
   },
   "file_extension": ".py",
   "mimetype": "text/x-python",
   "name": "python",
   "nbconvert_exporter": "python",
   "pygments_lexer": "ipython3",
   "version": "3.8.15"
  }
 },
 "nbformat": 4,
 "nbformat_minor": 5
}
