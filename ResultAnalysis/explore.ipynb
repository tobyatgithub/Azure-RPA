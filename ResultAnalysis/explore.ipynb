{
 "cells": [
  {
   "cell_type": "code",
   "execution_count": 1,
   "id": "96046335",
   "metadata": {},
   "outputs": [],
   "source": [
    "import os\n",
    "import json\n",
    "from typing import List"
   ]
  },
  {
   "cell_type": "code",
   "execution_count": 2,
   "id": "3a23ee02",
   "metadata": {},
   "outputs": [],
   "source": [
    "path = r\"C:/Users/tobyf/Downloads/PHC-RPA-Data/C.json\""
   ]
  },
  {
   "cell_type": "code",
   "execution_count": 3,
   "id": "fd3092cd",
   "metadata": {},
   "outputs": [],
   "source": [
    "with open(path, 'r') as f:\n",
    "    data = json.load(f)"
   ]
  },
  {
   "cell_type": "code",
   "execution_count": 4,
   "id": "f253525b",
   "metadata": {},
   "outputs": [
    {
     "data": {
      "text/plain": [
       "dict_keys(['api_version', 'model_id', 'content', 'languages', 'pages', 'paragraphs', 'tables', 'key_value_pairs', 'styles', 'documents'])"
      ]
     },
     "execution_count": 4,
     "metadata": {},
     "output_type": "execute_result"
    }
   ],
   "source": [
    "data.keys()"
   ]
  },
  {
   "cell_type": "code",
   "execution_count": 10,
   "id": "8a2cb8c2",
   "metadata": {
    "scrolled": true
   },
   "outputs": [
    {
     "name": "stdout",
     "output_type": "stream",
     "text": [
      "Page: || 1/1\n",
      "From: || Dr. O'Connor To\n",
      "patient || FORFFORD, Fatherilat Elather\n",
      "405-2884 0th Ave W\n",
      "Vancouver, BC, CAN\n",
      "V6K 8A8\n",
      "MSP: || 63688\n",
      "date of birth : || 19-Feb-1915\n",
      "age : || 77\n",
      "P: || 604-734-2553\n",
      "home phone : || (604) 322-3266\n",
      "sex : || Female\n",
      "F: || 604-734-7148\n",
      "work phono : || NoValue\n",
      "other phone : || NoValue\n",
      "PHN : || 9875 874 878\n",
      "copy to physician : || Jansen, Kara Ann [28089]\n",
      "height: || 199 cm\n",
      "weight || 99 kg\n",
      "copy to physician : || Ip, Janet Lynn [28028]\n",
      "additional copy to : || NoValue\n",
      "requisition date : || 23-Sep-2022\n",
      "appointment date : || NoValue\n",
      "abdomen || :unselected:\n",
      "carotid duplex || :unselected:\n",
      "prostate || :unselected:\n",
      "op thalmic || :unselected:\n",
      "obstetrical || :unselected:\n",
      "vascular duplex/dvt || :unselected:\n",
      "scrotal || :unselected:\n",
      "extremity || :selected:\n",
      "pelvis || :unselected:\n",
      "thyroid/parathyroid || :unselected:\n",
      "breast || :unselected:\n",
      "chest || :unselected:\n",
      "renal || :unselected:\n",
      "bladder || :unselected:\n",
      "kidney || :unselected:\n",
      "prostate biopsy || :unselected:\n",
      "kidney and bladder (post-void-residual) || :unselected:\n",
      "-renal and bladder (post-void residual) || :unselected:\n",
      "Upper abdomen (RUQ, LUQ) || :unselected:\n",
      "Pelvic (RLQ, LLQ,BLADDER) || :unselected:\n",
      "Combination pelvic and upper abdomen || :unselected:\n",
      "Other: || :unselected:\n",
      "RELEVANT HISTORY / REASON FOR EXAM : || 67yo female back and left groin pain. persistent pain at left groin by adductor insertion n along adductors\n",
      "ALAWAD\n",
      "CPSID || -06- 1 0 2022\n",
      "PHONE REQUEST : || NoValue\n",
      "YES || :unselected:\n",
      "NO || :unselected:\n",
      "YES || :unselected:\n",
      "NO || :unselected:\n",
      "LMP (dd/MM/yyyy): || NoValue\n",
      "EDD (dd/MM/yyyy): || NoValue\n",
      "SIGNATURE OF AUTHORIZING PRACTITIONER || Medol\n",
      "M.D.\n",
      "PLEASE PRINT NAME || Dr. Malgorzata M. Sudol\n",
      "PRAC, NO. || 63688\n",
      "PHONE NUMBER: || 604-734-2553\n"
     ]
    }
   ],
   "source": [
    "def getKeyValuePairsFromJson(data, showPrint=False):\n",
    "    contents = data[\"key_value_pairs\"]\n",
    "\n",
    "    keyList, valList = [], []\n",
    "    for content in contents:\n",
    "        try:\n",
    "            keyList.append(content[\"key\"][\"content\"])\n",
    "            tmp = content.get(\"value\", {})\n",
    "            if tmp:\n",
    "                valList.append(tmp.get(\"content\", None))\n",
    "            else:\n",
    "                valList.append(\"NoValue\")\n",
    "        except:\n",
    "            print(\"hmmm..strange why get() will return None for some tmp.\")\n",
    "            print(tmp)\n",
    "            print(content)\n",
    "            \n",
    "    if showPrint:\n",
    "        for key, value in zip(keyList, valList):\n",
    "            print(key, \"||\", value)\n",
    "    \n",
    "    return keyList, valList\n",
    "\n",
    "# show the key value result\n",
    "_ = getKeyValuePairsFromJson(data, True)"
   ]
  },
  {
   "cell_type": "code",
   "execution_count": 9,
   "id": "3cc2cb4e",
   "metadata": {
    "scrolled": true
   },
   "outputs": [
    {
     "data": {
      "text/plain": [
       "['2022 16:33:54 pdt',\n",
       " 'page: 1/1',\n",
       " \"from: dr. o'connor to\",\n",
       " 'request for ultrasound consultation',\n",
       " 'patient',\n",
       " 'forfford, fatherilat elather',\n",
       " '405-2884 0th ave w',\n",
       " 'vancouver, bc, can',\n",
       " 'v6k 8a8',\n",
       " 'date of birth : 19-feb-1915',\n",
       " 'home phone : (604) 322-3266',\n",
       " 'work phono :',\n",
       " 'other phone :',\n",
       " 'height: 199 cm',\n",
       " 'requisition date : 23-sep-2022',\n",
       " 'appointment date :',\n",
       " 'exam requested :',\n",
       " 'abdomen',\n",
       " 'obstetrical',\n",
       " 'pelvis',\n",
       " 'renal',\n",
       " 'practitioner',\n",
       " 'age : 77',\n",
       " 'sex : female',\n",
       " 'phn : 9875 874 878',\n",
       " 'weight 99 kg',\n",
       " 'dr. malgorzata m, sudol',\n",
       " 'physical medicine and rehabilitation',\n",
       " 'msp: 63688',\n",
       " '1211 8th ave w',\n",
       " 'vancouver, bc, v6h-1c7',\n",
       " 'p: 604-734-2553',\n",
       " 'f: 604-734-7148',\n",
       " 'copy to physician : jansen, kara ann [28089]',\n",
       " 'copy to physician : ip, janet lynn [28028]',\n",
       " 'additional copy to :',\n",
       " 'carotid duplex',\n",
       " 'prostate',\n",
       " 'op thalmic',\n",
       " 'vascular duplex/dvt',\n",
       " 'scrotal',\n",
       " 'extremity',\n",
       " 'thyroid/parathyroid',\n",
       " 'breast',\n",
       " 'chest',\n",
       " 'bladder',\n",
       " 'kidney',\n",
       " 'prostate biopsy',\n",
       " 'kidney and bladder (post-void-residual)',\n",
       " 'upper abdomen (ruq, luq)',\n",
       " '-renal and bladder (post-void residual)',\n",
       " 'pelvic (rlq, llq,bladder)',\n",
       " 'combination pelvic and upper abdomen',\n",
       " 'other:',\n",
       " 'ri +mc',\n",
       " 'relevant history / reason for exam :',\n",
       " '67yo female back and left groin pain. persistent pain at left groin by adductor insertion n along adductors',\n",
       " '- assess for adductor tendinopathy/ tear; bony injury at adductor insertion',\n",
       " 'phone request :',\n",
       " 'yes',\n",
       " 'medol',\n",
       " 'dr.s. alawad',\n",
       " '-06- 1 0 2022',\n",
       " 'cpsid :55318',\n",
       " 'no',\n",
       " 'patient pregnant:',\n",
       " 'lmp (dd/mm/yyyy):',\n",
       " 'edd (dd/mm/yyyy):',\n",
       " 'yes',\n",
       " 'no',\n",
       " 'ps',\n",
       " '..',\n",
       " 'm.d.',\n",
       " 'signature of authorizing practitioner',\n",
       " 'phone number: 604-734-2553',\n",
       " 'dr. malgorzata m. sudol',\n",
       " '63688',\n",
       " 'please print name',\n",
       " 'prac, no.',\n",
       " '** please bring your carecard, wcb and/or icbc information **',\n",
       " 'plexia electronic medical systems inc.',\n",
       " 'www.plexia.ca']"
      ]
     },
     "execution_count": 9,
     "metadata": {},
     "output_type": "execute_result"
    }
   ],
   "source": [
    "def getPageTextFromJson(data, showPrint=False):\n",
    "    textList = []\n",
    "    for page in data[\"pages\"]:\n",
    "        for line in page[\"lines\"]:\n",
    "            textList.append(line.get(\"content\").lower().strip())\n",
    "    \n",
    "    if showPrint:\n",
    "        print(len(textList), textList)\n",
    "        \n",
    "    return textList\n",
    "\n",
    "allText = getPageTextFromJson(data)\n",
    "allText"
   ]
  },
  {
   "cell_type": "code",
   "execution_count": 14,
   "id": "87501036",
   "metadata": {},
   "outputs": [
    {
     "name": "stdout",
     "output_type": "stream",
     "text": [
      "False\n",
      "True\n"
     ]
    }
   ],
   "source": [
    "def searchKeyWordFromTextList(keyWord:str, textList: List[str]) -> bool:\n",
    "    for text in textList:\n",
    "        if keyWord in text:\n",
    "            return True\n",
    "    return False\n",
    "\n",
    "print(searchKeyWordFromTextList(\"computed tomography\", allText))\n",
    "print(searchKeyWordFromTextList(\"ultrasound\", allText) or searchKeyWordFromTextList(\"ultrasounddsa\", allText))"
   ]
  },
  {
   "cell_type": "code",
   "execution_count": null,
   "id": "216db648",
   "metadata": {},
   "outputs": [],
   "source": []
  }
 ],
 "metadata": {
  "kernelspec": {
   "display_name": "Python 3 (ipykernel)",
   "language": "python",
   "name": "python3"
  },
  "language_info": {
   "codemirror_mode": {
    "name": "ipython",
    "version": 3
   },
   "file_extension": ".py",
   "mimetype": "text/x-python",
   "name": "python",
   "nbconvert_exporter": "python",
   "pygments_lexer": "ipython3",
   "version": "3.8.15"
  }
 },
 "nbformat": 4,
 "nbformat_minor": 5
}
