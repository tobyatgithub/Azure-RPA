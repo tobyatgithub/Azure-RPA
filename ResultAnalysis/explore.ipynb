{
 "cells": [
  {
   "cell_type": "code",
   "execution_count": 1,
   "id": "96046335",
   "metadata": {},
   "outputs": [],
   "source": [
    "import os\n",
    "import json\n",
    "from typing import List"
   ]
  },
  {
   "cell_type": "code",
   "execution_count": 2,
   "id": "3a23ee02",
   "metadata": {},
   "outputs": [],
   "source": [
    "path = r\"C:/Users/tobyf/Downloads/PHC-RPA-Data/A.json\""
   ]
  },
  {
   "cell_type": "code",
   "execution_count": 3,
   "id": "fd3092cd",
   "metadata": {},
   "outputs": [],
   "source": [
    "with open(path, 'r') as f:\n",
    "    data = json.load(f)"
   ]
  },
  {
   "cell_type": "code",
   "execution_count": 4,
   "id": "f253525b",
   "metadata": {},
   "outputs": [
    {
     "data": {
      "text/plain": [
       "dict_keys(['api_version', 'model_id', 'content', 'languages', 'pages', 'paragraphs', 'tables', 'key_value_pairs', 'styles', 'documents'])"
      ]
     },
     "execution_count": 4,
     "metadata": {},
     "output_type": "execute_result"
    }
   ],
   "source": [
    "data.keys()"
   ]
  },
  {
   "cell_type": "code",
   "execution_count": null,
   "id": "25a414c2",
   "metadata": {},
   "outputs": [],
   "source": []
  },
  {
   "cell_type": "code",
   "execution_count": 5,
   "id": "8a2cb8c2",
   "metadata": {
    "scrolled": false
   },
   "outputs": [
    {
     "name": "stdout",
     "output_type": "stream",
     "text": [
      "X-Ray || :unselected:\n",
      "CT || :unselected:\n",
      "Ultrasound || :unselected:\n",
      "Echo || :unselected:\n",
      "Angiogram/Interventional || :unselected:\n",
      "Nuclear || :unselected:\n",
      "Any Site \"] or Specify Site: || :unselected:\n",
      "Appointment Date: || NoValue\n",
      "Time: || NoValue\n",
      "PHN || 9648-648-648\n",
      "ICBC || NoValue\n",
      "IWCB || NoValue\n",
      "WCB || NoValue\n",
      "Other || NoValue\n",
      "Name: || Elalne Yainegaine\n",
      "Address: || 5555 Hudson Street\n",
      "Vancouver, BC V4H 4B4\n",
      "Tel: || (604) 604-6604\n",
      "Other: || (604) 604-5604\n",
      "Nurse || :unselected:\n",
      "Porter || :unselected:\n",
      "Volunteer || :unselected:\n",
      "Date of Birth: || 29-Jun-1990\n",
      "MO || :unselected:\n",
      "FX\n",
      "Mode of transport || :selected:\n",
      "Wheelchair || :unselected:\n",
      "Bed || :unselected:\n",
      "Stretcher || :unselected:\n",
      "Previous Images? || NoValue\n",
      "Location: || NoValue\n",
      "Other || :unselected:\n",
      "Isolation || :unselected:\n",
      "Portable || :unselected:\n",
      "W Pump || :unselected:\n",
      "Routine || :unselected:\n",
      "Urgent || :selected:\n",
      "Stat || :unselected:\n",
      "[]Yes || :unselected:\n",
      "No || :unselected:\n",
      "Yes || :selected:\n",
      "NO || :unselected:\n",
      "Yes || :selected:\n",
      "No || :unselected:\n",
      "[]Yes || :unselected:\n",
      "No || :selected:\n",
      "Yes || :unselected:\n",
      "No || :selected:\n",
      "LMP || P\n",
      "Height || A\n",
      "Weight || NoValue\n",
      "Previous contrast reaction? || GFR 40\n",
      "Physician's signature || NoValue\n",
      "Tel: || 604-707-2273\n",
      "Physician's MSP billing #: || 63716\n",
      "Yes || :unselected:\n",
      "No || :selected:\n",
      "DYes || :unselected:\n",
      "No || :selected:\n",
      "eGFR: || NoValue\n",
      "Date: || NoValue\n",
      "Creatinine: || NoValue\n",
      "Date: || NoValue\n",
      "INA: || NoValue\n",
      "Date: || NoValue\n",
      "Yes || :unselected:\n",
      "No || :unselected:\n",
      "PLATELETS: || NoValue\n",
      "Date: || NoValue\n",
      "Il yes please list medications: || NoValue\n",
      "AGFA: || NoValue\n",
      "Dale: || NoValue\n",
      "Creatinine: || NoValue\n",
      "Date: || NoValue\n",
      "Technologist: || NoValue\n",
      "Date: || NoValue\n",
      "No. of Images: || NoValue\n",
      "Fluoro Time/Dose: || 1\n",
      "Shielding used: || NoValue\n"
     ]
    }
   ],
   "source": [
    "def getKeyValuePairsFromJson(data, showPrint=False):\n",
    "    contents = data[\"key_value_pairs\"]\n",
    "\n",
    "    keyList, valList = [], []\n",
    "    for content in contents:\n",
    "        try:\n",
    "            keyList.append(content[\"key\"][\"content\"])\n",
    "            tmp = content.get(\"value\", {})\n",
    "            if tmp:\n",
    "                valList.append(tmp.get(\"content\", None))\n",
    "            else:\n",
    "                valList.append(\"NoValue\")\n",
    "        except:\n",
    "            print(\"hmmm..strange why get() will return None for some tmp.\")\n",
    "            print(tmp)\n",
    "            print(content)\n",
    "            \n",
    "    if showPrint:\n",
    "        for key, value in zip(keyList, valList):\n",
    "            print(key, \"||\", value)\n",
    "    \n",
    "    return keyList, valList\n",
    "\n",
    "# show the key value result\n",
    "_ = getKeyValuePairsFromJson(data, True)"
   ]
  },
  {
   "cell_type": "code",
   "execution_count": 6,
   "id": "3cc2cb4e",
   "metadata": {
    "scrolled": true
   },
   "outputs": [
    {
     "data": {
      "text/plain": [
       "['page: 1 of 4',\n",
       " '2022-11-04 11:05:05 pdt',\n",
       " '16047072250',\n",
       " 'from: telus healthcare centre',\n",
       " 'vancouver',\n",
       " 'coastalhealth',\n",
       " 'medical imaging requisition',\n",
       " 'promoting dellacse. kapuring cary.',\n",
       " '[] x-ray [] ct',\n",
       " '[] ultrasound',\n",
       " '\"] echo',\n",
       " 'angiogram/interventional',\n",
       " 'nuclear medicine',\n",
       " 'any site',\n",
       " '\"] or specify site:',\n",
       " 'appointment date:',\n",
       " 'time:',\n",
       " 'phn 9648-648-648',\n",
       " 'icbc icbc',\n",
       " 'iwcb',\n",
       " 'wcb',\n",
       " 'other',\n",
       " 'place medical imaging',\n",
       " 'name:',\n",
       " 'elalne yainegaine',\n",
       " 'b, address:',\n",
       " '5555 hudson street',\n",
       " 'vancouver, bc v4h 4b4',\n",
       " 'tel: (604) 604-6604',\n",
       " 'other: (604) 604-5604',\n",
       " 't',\n",
       " 'date of birth: 29-jun-1990',\n",
       " 'mo fx',\n",
       " 'previous images? location:',\n",
       " 'label',\n",
       " 'el here',\n",
       " 'escort required',\n",
       " 'nurse',\n",
       " '[] porter',\n",
       " 'volunteer',\n",
       " 'mode of transport',\n",
       " 'wheelchair',\n",
       " 'd] stretcher',\n",
       " 'bed',\n",
       " 'other',\n",
       " 'isolation',\n",
       " '[] portable',\n",
       " 'c] w pump',\n",
       " 'exam(s) requested:',\n",
       " 'urgent request: ct abdomen with contrast *recent ct chest at vgh/ubc reported',\n",
       " 'findings/lesions of liver suspicious for metastatic disease',\n",
       " 'priority',\n",
       " '[ routine',\n",
       " '[x] urgent',\n",
       " '[] stat',\n",
       " 'physician should consult with radiologist for urgent and stat cases',\n",
       " 'able to give consent?',\n",
       " '[]yes [t] no if the patient does not speak english, an interpreter must accompany the patient',\n",
       " 'pt diabetic',\n",
       " 'ixi yes',\n",
       " '[ no',\n",
       " 'on metformin',\n",
       " 'ixi yes',\n",
       " '[\"] no',\n",
       " 'breast feeding []yes',\n",
       " '[x] no',\n",
       " 'pregnant',\n",
       " 'o yes * no',\n",
       " 'lmp',\n",
       " 'height',\n",
       " 'p',\n",
       " 'a',\n",
       " 'weight',\n",
       " 'previous contrast reaction?',\n",
       " 'gfr 40',\n",
       " 'pertinent history / medications:',\n",
       " 'ct abdo with contrast *** suspicious lesions of liver seen on chest ct',\n",
       " '*** suspicious for metastatic disease pt has significant fatigue and abdo pain,',\n",
       " 'bloating, discomfort liver tender on exam please characterize liver and do complete abdol',\n",
       " 'pelvis®',\n",
       " 'intestinal infection, campylobacter; gerd; dm; aortic sclerosis - echo(2020) due in',\n",
       " '2022; asthma - confirmed on methacholine challenge feb 2019; chronic kidney disease,.',\n",
       " 'unspecified; diabetes mellitus; gastritis and duodenitis, other gastritis; hyperlipidemia;',\n",
       " 'migraine with aura; oa; past history note',\n",
       " \"physician's signature\",\n",
       " 'tel: 604-707-2273',\n",
       " \"physician's msp billing #: 63716\",\n",
       " 'copies of report to:',\n",
       " 'this section must be completed if requesting ct',\n",
       " 'is kidney function abnormal?',\n",
       " 'yes x) no',\n",
       " 'has patient had l-spine surgery?',\n",
       " 'dyes [x] no',\n",
       " 'if yes for any of the above or if requesting a ct abdomen/pelvis or angiogram: a current (within 3 months) egfr and creatinine are mandatory:',\n",
       " 'egfr:',\n",
       " 'date:',\n",
       " 'creatinine:',\n",
       " 'date:',\n",
       " 'this section must be completed for all core biopsies, angiograms and interventional procedures',\n",
       " 'ina:',\n",
       " 'date:',\n",
       " '* does the patient take anticoagulant/anti-platelet medication?',\n",
       " '[] yes',\n",
       " '[] no',\n",
       " 'platelets:',\n",
       " 'date:',\n",
       " 'il yes please list medications:',\n",
       " 'agfa:',\n",
       " 'dale:',\n",
       " 'creatinine:',\n",
       " 'date:',\n",
       " '*patients may have to stop taking anticoagulant or anti platelet medication prior to their appointment. if this is unsafe for your patient please',\n",
       " 'consult a radiologist.',\n",
       " 'technologist:',\n",
       " 'date:',\n",
       " 'no. of images:',\n",
       " 'fluoro time/dose:',\n",
       " '1',\n",
       " 'shielding used:',\n",
       " 'technologist comments on reverse',\n",
       " '00083312. vch,0026 june.2010',\n",
       " 'mgv']"
      ]
     },
     "execution_count": 6,
     "metadata": {},
     "output_type": "execute_result"
    }
   ],
   "source": [
    "def getPageTextFromJson(data, showPrint=False):\n",
    "    textList = []\n",
    "    for page in data[\"pages\"]:\n",
    "        for line in page[\"lines\"]:\n",
    "            textList.append(line.get(\"content\").lower().strip())\n",
    "    \n",
    "    if showPrint:\n",
    "        print(len(textList), textList)\n",
    "        \n",
    "    return textList\n",
    "\n",
    "allText = getPageTextFromJson(data)\n",
    "allText"
   ]
  },
  {
   "cell_type": "code",
   "execution_count": 7,
   "id": "87501036",
   "metadata": {},
   "outputs": [
    {
     "name": "stdout",
     "output_type": "stream",
     "text": [
      "False\n",
      "True\n"
     ]
    }
   ],
   "source": [
    "def searchKeyWordFromTextList(keyWord:str, textList: List[str]) -> bool:\n",
    "    for text in textList:\n",
    "        if keyWord in text:\n",
    "            return True\n",
    "    return False\n",
    "\n",
    "print(searchKeyWordFromTextList(\"computed tomography\", allText))\n",
    "print(searchKeyWordFromTextList(\"ultrasound\", allText) or searchKeyWordFromTextList(\"ultrasounddsa\", allText))"
   ]
  },
  {
   "cell_type": "code",
   "execution_count": 8,
   "id": "40e1a1e8",
   "metadata": {},
   "outputs": [
    {
     "name": "stdout",
     "output_type": "stream",
     "text": [
      "False True False False True\n"
     ]
    }
   ],
   "source": [
    "allText = getPageTextFromJson(data)\n",
    "hasCTKeyWord = searchKeyWordFromTextList(\"computed tomography\", allText)\n",
    "hasUltrasoundKeyWord = searchKeyWordFromTextList(\"ultrasound\", allText)\n",
    "hasMRKeyWord = searchKeyWordFromTextList(\"magnetic resonance\", allText)\n",
    "hasBSKeyWord = searchKeyWordFromTextList(\"breast scan\", allText)\n",
    "hasXRayKeyWord = searchKeyWordFromTextList(\"x-ray\", allText)\n",
    "print(hasCTKeyWord, hasUltrasoundKeyWord, hasMRKeyWord, hasBSKeyWord, hasXRayKeyWord)"
   ]
  },
  {
   "cell_type": "code",
   "execution_count": 9,
   "id": "12fa10ab",
   "metadata": {},
   "outputs": [
    {
     "ename": "NameError",
     "evalue": "name 'outputFolderName' is not defined",
     "output_type": "error",
     "traceback": [
      "\u001b[1;31m---------------------------------------------------------------------------\u001b[0m",
      "\u001b[1;31mNameError\u001b[0m                                 Traceback (most recent call last)",
      "Cell \u001b[1;32mIn [9], line 21\u001b[0m\n\u001b[0;32m     18\u001b[0m         \u001b[38;5;28;01melif\u001b[39;00m \u001b[38;5;124m\"\u001b[39m\u001b[38;5;124mBS\u001b[39m\u001b[38;5;124m\"\u001b[39m \u001b[38;5;129;01min\u001b[39;00m value:\n\u001b[0;32m     19\u001b[0m             outputFolderName \u001b[38;5;241m=\u001b[39m BS_FOLDER\n\u001b[1;32m---> 21\u001b[0m \u001b[43moutputFolderName\u001b[49m\n",
      "\u001b[1;31mNameError\u001b[0m: name 'outputFolderName' is not defined"
     ]
    }
   ],
   "source": [
    "CT_FOLDER = \"ct-requests\"\n",
    "MR_FOLDER = \"mr-requests\"\n",
    "US_FOLDER = \"us-requests\"\n",
    "BS_FOLDER = \"bs-requests\"\n",
    "XR_FOLDER = \"xr-requests\"\n",
    "\n",
    "# analyze_result_dict = data.to_dict() # {key: {}}\n",
    "\n",
    "keyList, valueList = getKeyValuePairsFromJson(data)\n",
    "for key, value in zip(keyList, valueList):\n",
    "    if \"exam requested\" in key.strip().lower():\n",
    "        if \"CT\" in value:\n",
    "            outputFolderName = CT_FOLDER\n",
    "        elif \"US\" in value:\n",
    "            outputFolderName = US_FOLDER\n",
    "        elif \"MR\" in value:\n",
    "            outputFolderName = MR_FOLDER\n",
    "        elif \"BS\" in value:\n",
    "            outputFolderName = BS_FOLDER\n",
    "                \n",
    "outputFolderName"
   ]
  },
  {
   "cell_type": "code",
   "execution_count": null,
   "id": "e7182752",
   "metadata": {},
   "outputs": [],
   "source": []
  }
 ],
 "metadata": {
  "kernelspec": {
   "display_name": "Python 3 (ipykernel)",
   "language": "python",
   "name": "python3"
  },
  "language_info": {
   "codemirror_mode": {
    "name": "ipython",
    "version": 3
   },
   "file_extension": ".py",
   "mimetype": "text/x-python",
   "name": "python",
   "nbconvert_exporter": "python",
   "pygments_lexer": "ipython3",
   "version": "3.8.15"
  }
 },
 "nbformat": 4,
 "nbformat_minor": 5
}
